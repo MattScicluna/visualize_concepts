{
 "cells": [
  {
   "cell_type": "markdown",
   "metadata": {},
   "source": [
    "# PCA"
   ]
  },
  {
   "cell_type": "markdown",
   "metadata": {},
   "source": [
    "This notebook visualizes and explains PCA.\n",
    "Lets look at how the algorithm"
   ]
  },
  {
   "cell_type": "code",
   "execution_count": null,
   "metadata": {},
   "outputs": [],
   "source": [
    "import numpy as np\n",
    "from sklearn.decomposition import PCA\n",
    "from sklearn.metrics.pairwise import pairwise_distances\n",
    "import matplotlib\n",
    "import matplotlib.pyplot as plt"
   ]
  },
  {
   "cell_type": "code",
   "execution_count": null,
   "metadata": {},
   "outputs": [],
   "source": [
    "def styleset():\n",
    "    matplotlib.rcParams['axes.linewidth']    = .75\n",
    "    matplotlib.rcParams['xtick.major.width'] = .75\n",
    "    matplotlib.rcParams['ytick.major.width'] = .75\n",
    "    matplotlib.rcParams['xtick.major.size'] = 3\n",
    "    matplotlib.rcParams['ytick.major.size'] = 3\n",
    "    matplotlib.rcParams['xtick.minor.size'] = 2\n",
    "    matplotlib.rcParams['ytick.minor.size'] = 2\n",
    "    matplotlib.rcParams['font.size']       = 7\n",
    "    matplotlib.rcParams['axes.titlesize']  = 7\n",
    "    matplotlib.rcParams['axes.labelsize']  = 7\n",
    "    matplotlib.rcParams['legend.fontsize'] = 7\n",
    "    matplotlib.rcParams['xtick.labelsize'] = 7\n",
    "    matplotlib.rcParams['ytick.labelsize'] = 7\n",
    "\n",
    "styleset()"
   ]
  },
  {
   "cell_type": "code",
   "execution_count": null,
   "metadata": {},
   "outputs": [],
   "source": [
    "mnist_data, mnist_labels = fetch_openml('mnist_784', version=1, return_X_y=True, as_frame=False, data_home='data')\n",
    "mnist_data /= mnist_data.max()  # divide by 255 to get in [0,1]"
   ]
  }
 ],
 "metadata": {
  "kernelspec": {
   "display_name": "Python (tsne_env)\n",
   "language": "python",
   "name": "tsne_env"
  },
  "language_info": {
   "codemirror_mode": {
    "name": "ipython",
    "version": 3
   },
   "file_extension": ".py",
   "mimetype": "text/x-python",
   "name": "python",
   "nbconvert_exporter": "python",
   "pygments_lexer": "ipython3",
   "version": "3.7.9"
  }
 },
 "nbformat": 4,
 "nbformat_minor": 4
}
